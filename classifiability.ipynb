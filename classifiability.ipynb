{
 "cells": [
  {
   "cell_type": "code",
   "execution_count": 1,
   "id": "c4ff121a-afd3-41ab-b79f-17aa02f962ae",
   "metadata": {},
   "outputs": [],
   "source": [
    "import numpy as np\n",
    "import matplotlib.pyplot as plt\n",
    "from netCDF4 import Dataset,num2date\n",
    "from sklearn.cluster import KMeans"
   ]
  },
  {
   "cell_type": "code",
   "execution_count": 2,
   "id": "11843455-3ea4-458d-9707-564d6c12fa32",
   "metadata": {},
   "outputs": [],
   "source": [
    "def classifiability(data,ncluster,nsim):\n",
    "    \"\"\"\n",
    "    An implementation of the Michelangeli et al. 1995 JAS routine\n",
    "    (equation 3.2)\n",
    "    \n",
    "    In PC space, for each value of k, for ntrials of kmeans clustering with different random seeds:\n",
    "    1. Correlates each cluster centroid with each other cluster centroid.\n",
    "    2. For each k in partition P, finds its best fit (max correlation) in Q.\n",
    "    3. Finds the lowest of these (the cluster in P with the worst fit in Q).\n",
    "    4. Computes the average of these over ntrials, yielding the classifiability.\n",
    "    \n",
    "    Michelangeli used 50 iterations.\n",
    "    \n",
    "    The notation follows M95 for P, Q, Aij, Aprime, and c_pq\n",
    "    \"\"\"\n",
    "        \n",
    "    centroids = np.full((nsim,ncluster,data.shape[1]),np.nan)\n",
    "    rand_seeds = np.random.choice(np.arange(1000),nsim,replace=False) ## these need to be unique seeds\n",
    "\n",
    "    for n in range(nsim):\n",
    "        ## run the kmeans algorithm once from specifed seed and store centroids\n",
    "        kmeans_trial = KMeans(n_clusters=ncluster, n_init=1, max_iter=500,random_state=rand_seeds[n]).fit(data)\n",
    "        centroids[n] = kmeans_trial.cluster_centers_\n",
    "\n",
    "    c_pq = np.full((nsim,nsim),np.nan)\n",
    "\n",
    "    for i in range(nsim):\n",
    "        for j in range(nsim):\n",
    "            if i!=j:    \n",
    "\n",
    "                P = centroids[i]; Q = centroids[j]\n",
    "\n",
    "                Aij = np.full((ncluster,ncluster),np.nan)\n",
    "                for r1 in range(ncluster):\n",
    "                    for r2 in range(ncluster):\n",
    "                        Aij[r1,r2]=np.corrcoef(P[r1],Q[r2])[0,1]\n",
    "\n",
    "                Aprime=np.max(Aij,axis=0)\n",
    "                c_pq[i,j] = np.min(Aprime)\n",
    "\n",
    "    classif=np.nanmean(c_pq)\n",
    "    print(classif,flush=True)\n",
    "    \n",
    "    return classif"
   ]
  }
 ],
 "metadata": {
  "kernelspec": {
   "display_name": "Python 3 (ipykernel)",
   "language": "python",
   "name": "python3"
  },
  "language_info": {
   "codemirror_mode": {
    "name": "ipython",
    "version": 3
   },
   "file_extension": ".py",
   "mimetype": "text/x-python",
   "name": "python",
   "nbconvert_exporter": "python",
   "pygments_lexer": "ipython3",
   "version": "3.9.12"
  }
 },
 "nbformat": 4,
 "nbformat_minor": 5
}
